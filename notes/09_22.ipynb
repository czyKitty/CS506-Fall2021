{
  "nbformat": 4,
  "nbformat_minor": 0,
  "metadata": {
    "colab": {
      "name": "09/22.ipynb",
      "provenance": [],
      "collapsed_sections": []
    },
    "kernelspec": {
      "name": "python3",
      "display_name": "Python 3"
    },
    "language_info": {
      "name": "python"
    }
  },
  "cells": [
    {
      "cell_type": "markdown",
      "metadata": {
        "id": "IGGN28nVN3j6"
      },
      "source": [
        "# Clustering\n",
        "*   grouping s.t data points are similar in same group\n",
        "*   outlier/anomaly detection\n",
        "    *   data preprocess\n",
        "    *   filter\n",
        "*   fill gap in data (NA value)\n",
        "    *   cluster similar group for same strategy\n",
        "\n",
        "## Type of clustering\n",
        "*   **Partitional** - one to one relation\n",
        "    * partition **n** data point into **k** clusters\n",
        "    * assign similar item to same cluster - function to define similarity\n",
        "      * minimize sum of difference between data points in same cluster\n",
        "      * define centroid, find points close to centroid - for Euclidean distance, **mean**\n",
        "*   Hierarchical - nested cluster organized as tree\n",
        "*   Density-based - focused on local density\n",
        "*   Soft Clustering - assign data to every cluster, each with a probability\n",
        "\n",
        "\n",
        "## K-means\n",
        "*  find k points to minimize the cost function\n",
        "\n",
        "### Lloyd's Algorithm\n",
        "* Randomly pick k centers\n",
        "* assign points to closest center\n",
        "* calc center using the assigned points\n",
        "* reassign points to closest center\n",
        "* Random approach:\n",
        "   * local maximum\n",
        "\n",
        "#### FFT approach\n",
        "* affect by outlier\n",
        "\n",
        "#### K-means++\n",
        "* start with random center and chose next center with prob proprtional to distance \n",
        "  * high prob for far points\n",
        "\n",
        "### Get right K\n",
        "* Tuning - iterate different k\n",
        "* use domain knowledge\n",
        "\n",
        "### Variations\n",
        "* k-medians - use manhattan distance\n",
        "* k-medoids - any distance func + center in dataset\n",
        "* weighted k-means - weighted points when compute mean"
      ]
    },
    {
      "cell_type": "code",
      "metadata": {
        "id": "-V_yuyXdaiLE"
      },
      "source": [
        "import random\n",
        "import matplotlib.pyplot as plt\n",
        "\n",
        "point_dist = {\"x\":9, \"y\":4, \"z\":1}\n",
        "N = sum(point_dist.values())\n",
        "\n",
        "def get_point_from_rand(x):\n",
        "  thres = 0\n",
        "  for p in point_dist:\n",
        "    thres += point_dist[p]\n",
        "    if x < thres:\n",
        "      return p\n",
        "\n",
        "res = random.randint(0, N)\n",
        "point = get_point_from_rand(res)"
      ],
      "execution_count": null,
      "outputs": []
    },
    {
      "cell_type": "code",
      "metadata": {
        "id": "j1Qs8iijSDbe"
      },
      "source": [
        ""
      ],
      "execution_count": null,
      "outputs": []
    }
  ]
}
{
  "nbformat": 4,
  "nbformat_minor": 0,
  "metadata": {
    "colab": {
      "name": "09/15.ipynb",
      "provenance": []
    },
    "kernelspec": {
      "name": "python3",
      "display_name": "Python 3"
    },
    "language_info": {
      "name": "python"
    }
  },
  "cells": [
    {
      "cell_type": "markdown",
      "metadata": {
        "id": "41hDjLPOARyT"
      },
      "source": [
        "\n",
        "# Class note 9.15 #\n"
      ]
    },
    {
      "cell_type": "markdown",
      "metadata": {
        "id": "5OrRkZW4AshL"
      },
      "source": [
        "#max path sum problem\n",
        "Add to fold triangle and give sum"
      ]
    },
    {
      "cell_type": "code",
      "metadata": {
        "id": "PG5ZyLJYAr6L"
      },
      "source": [
        "def read_triangle(file_name):\n",
        "\tf = open(file_name,\"r\")\n",
        "\ttriangle = []\n",
        "\tline = f.readlines()\n",
        "\tfor l in readlines:\n",
        "\t\t# split each value in line\n",
        "\t\tl.split(\" \")\n",
        "\t\t# convert line to int\n",
        "\t\ttriangle.append([int(x) for x in l])\n",
        "\tf.close()\n",
        "\treturn triangle"
      ],
      "execution_count": null,
      "outputs": []
    },
    {
      "cell_type": "code",
      "metadata": {
        "id": "a6DcBYfxAOEB"
      },
      "source": [
        "def add_level(x, y):\n",
        "\tres = []\n",
        "\tfor i in range(len(x)):\n",
        "\t\tres.append(x[i]+y[i])\n",
        "\treturn res\n",
        "\n",
        "def element_max(x, y):\n",
        "\tres = []\n",
        "\tfor i in range(len(x)):\n",
        "\t\tres.append(max(x[i],y[i]))\n",
        "\treturn res\n",
        "\n",
        "def fold_level(cur, nxt):\n",
        "\t'''\n",
        "\tint[] level\n",
        "\tfold level to next level\n",
        "\t'''\n",
        "\tright_opt = add_level(cur+[0], nxt)\n",
        "\tleft_opt = add_level([0]+cur, nxt)\n",
        "\tmax_opt = element_max(right_opt, left_opt)\n",
        "\treturn max_opt\n",
        "\n",
        "def fold(triangle):\n",
        "\t'''\n",
        "\tint[][] triangle\n",
        "\tfold triangle and return max\n",
        "\t'''\n",
        "\tcur_level = triangle[0]\n",
        "\tfor level in triagle [1:]:\n",
        "\t\tcur_level = fold_level(cur_level, level)\n",
        "\treturn max(cur_level)\n",
        "\n",
        "print read_triangle()"
      ],
      "execution_count": null,
      "outputs": []
    },
    {
      "cell_type": "markdown",
      "metadata": {
        "id": "qGVWgRkUA89h"
      },
      "source": [
        "# Data Representation \n",
        "**Graphs**- Nodes connect by edges\n",
        "  \n",
        "**Adjacency Matrix** - represent edge connecting two nodes (0 for no, 1 for yes)\n",
        "```\n",
        "  A B C\n",
        "A 0 1 1\n",
        "B 1 0 1\n",
        "C 1 1 0\n",
        "```\n",
        "**Adjacency List** - list of index of node with edge to node\n",
        "```\n",
        "1:{2,3}\n",
        "2:{1,3}\n",
        "3:{1,2}\n",
        "```\n",
        "\n",
        "**Text** - list of doc\n",
        "\n",
        "**String** - list of char\n",
        "\n",
        "**Time series** - Data at intervals of time (e.g.line graph)\n",
        "\n",
        "**Supervised learning**\n",
        "\n",
        "* make prediction model based on known\n",
        "* classification\n",
        "\n",
        "**Unsupervised learning**\n",
        "\n",
        "* clustering\n",
        "\n",
        "**Feature space** \n",
        "\n",
        "**distance function**\n",
        "* d(i,j)=0, iif i=j\n",
        "* d(i,j)=d(j,i)\n",
        "* d(i,j)<=d(i,k)+d(k,j)\n",
        "\n"
      ]
    }
  ]
}